{
 "cells": [
  {
   "cell_type": "code",
   "execution_count": 0,
   "metadata": {
    "colab": {
     "base_uri": "https://localhost:8080/",
     "height": 204
    },
    "colab_type": "code",
    "id": "eMdmtRe6512n",
    "outputId": "25f540d9-37b0-427b-a5e7-64d040bb006e"
   },
   "outputs": [
    {
     "name": "stdout",
     "output_type": "stream",
     "text": [
      "--2018-11-28 07:46:42--  http://www.manythings.org/anki/cmn-eng.zip\n",
      "Resolving www.manythings.org (www.manythings.org)... 104.24.109.196, 104.24.108.196, 2606:4700:30::6818:6cc4, ...\n",
      "Connecting to www.manythings.org (www.manythings.org)|104.24.109.196|:80... connected.\n",
      "HTTP request sent, awaiting response... 200 OK\n",
      "Length: 546053 (533K) [application/zip]\n",
      "Saving to: ‘sample_data/cmn-eng.zip’\n",
      "\n",
      "\r",
      "sample_data/cmn-eng   0%[                    ]       0  --.-KB/s               \r",
      "sample_data/cmn-eng 100%[===================>] 533.25K  --.-KB/s    in 0.07s   \n",
      "\n",
      "2018-11-28 07:46:42 (7.15 MB/s) - ‘sample_data/cmn-eng.zip’ saved [546053/546053]\n",
      "\n"
     ]
    }
   ],
   "source": [
    "#download data\n",
    "!wget -O sample_data/cmn-eng.zip http://www.manythings.org/anki/cmn-eng.zip"
   ]
  },
  {
   "cell_type": "code",
   "execution_count": 0,
   "metadata": {
    "colab": {
     "base_uri": "https://localhost:8080/",
     "height": 68
    },
    "colab_type": "code",
    "id": "3JxmP9mQ53lF",
    "outputId": "7a3f82d7-d8d8-4c43-a0a3-6a473f44d7f3"
   },
   "outputs": [
    {
     "name": "stdout",
     "output_type": "stream",
     "text": [
      "anscombe.json\t\t      cmn-eng.zip\t     README.md\n",
      "california_housing_test.csv   mnist_test.csv\n",
      "california_housing_train.csv  mnist_train_small.csv\n"
     ]
    }
   ],
   "source": [
    "#ls: list file status\n",
    "!ls sample_data"
   ]
  },
  {
   "cell_type": "code",
   "execution_count": 0,
   "metadata": {
    "colab": {
     "base_uri": "https://localhost:8080/",
     "height": 68
    },
    "colab_type": "code",
    "id": "G1Pc856j6fVa",
    "outputId": "f1f38588-a2df-4415-e4bc-380ff466bc66"
   },
   "outputs": [
    {
     "name": "stdout",
     "output_type": "stream",
     "text": [
      "Archive:  sample_data/cmn-eng.zip\n",
      "  inflating: cmn.txt                 \n",
      "  inflating: _about.txt              \n"
     ]
    }
   ],
   "source": [
    "#unzip : 解壓縮zip檔\n",
    "!unzip sample_data/cmn-eng.zip"
   ]
  },
  {
   "cell_type": "code",
   "execution_count": 0,
   "metadata": {
    "colab": {
     "base_uri": "https://localhost:8080/",
     "height": 187
    },
    "colab_type": "code",
    "id": "sd2iSLacR6Z1",
    "outputId": "f6147c48-d240-46fd-8cd7-188e4988949f"
   },
   "outputs": [
    {
     "name": "stdout",
     "output_type": "stream",
     "text": [
      "Hi.\t嗨。\n",
      "Hi.\t你好。\n",
      "Run.\t你用跑的。\n",
      "Wait!\t等等！\n",
      "Hello!\t你好。\n",
      "I try.\t让我来。\n",
      "I won!\t我赢了。\n",
      "Oh no!\t不会吧。\n",
      "Cheers!\t乾杯!\n",
      "He ran.\t他跑了。\n"
     ]
    }
   ],
   "source": [
    "#head: 看檔案的前10行\n",
    "!head cmn.txt"
   ]
  },
  {
   "cell_type": "code",
   "execution_count": 5,
   "metadata": {
    "colab": {
     "base_uri": "https://localhost:8080/",
     "height": 289
    },
    "colab_type": "code",
    "id": "nNgDZ_l8SAVa",
    "outputId": "56365898-6602-4abd-b700-42b30e69b637"
   },
   "outputs": [
    {
     "name": "stdout",
     "output_type": "stream",
     "text": [
      "Wed Nov 28 08:56:38 2018       \n",
      "+-----------------------------------------------------------------------------+\n",
      "| NVIDIA-SMI 396.44                 Driver Version: 396.44                    |\n",
      "|-------------------------------+----------------------+----------------------+\n",
      "| GPU  Name        Persistence-M| Bus-Id        Disp.A | Volatile Uncorr. ECC |\n",
      "| Fan  Temp  Perf  Pwr:Usage/Cap|         Memory-Usage | GPU-Util  Compute M. |\n",
      "|===============================+======================+======================|\n",
      "|   0  Tesla K80           Off  | 00000000:00:04.0 Off |                    0 |\n",
      "| N/A   31C    P0    56W / 149W |    116MiB / 11441MiB |      0%      Default |\n",
      "+-------------------------------+----------------------+----------------------+\n",
      "                                                                               \n",
      "+-----------------------------------------------------------------------------+\n",
      "| Processes:                                                       GPU Memory |\n",
      "|  GPU       PID   Type   Process name                             Usage      |\n",
      "|=============================================================================|\n",
      "+-----------------------------------------------------------------------------+\n"
     ]
    }
   ],
   "source": [
    "#顯示gpu 訊息\n",
    "!nvidia-smi"
   ]
  },
  {
   "cell_type": "code",
   "execution_count": 0,
   "metadata": {
    "colab": {},
    "colab_type": "code",
    "id": "DR76A5USSD5W"
   },
   "outputs": [],
   "source": [
    "import keras\n",
    "import tensorflow as tf"
   ]
  },
  {
   "cell_type": "code",
   "execution_count": 4,
   "metadata": {
    "colab": {
     "base_uri": "https://localhost:8080/",
     "height": 34
    },
    "colab_type": "code",
    "id": "xqT9LqtHecQK",
    "outputId": "567548a6-c00c-4e90-b32b-7a42b9c0170e"
   },
   "outputs": [
    {
     "data": {
      "text/plain": [
       "True"
      ]
     },
     "execution_count": 4,
     "metadata": {
      "tags": []
     },
     "output_type": "execute_result"
    }
   ],
   "source": [
    "tf.test.is_gpu_available()"
   ]
  },
  {
   "cell_type": "code",
   "execution_count": 0,
   "metadata": {
    "colab": {},
    "colab_type": "code",
    "id": "TX_y-V5UeoGy"
   },
   "outputs": [],
   "source": []
  }
 ],
 "metadata": {
  "accelerator": "GPU",
  "colab": {
   "name": "translate.ipynb",
   "provenance": [],
   "version": "0.3.2"
  },
  "kernelspec": {
   "display_name": "Python 3",
   "name": "python3"
  }
 },
 "nbformat": 4,
 "nbformat_minor": 0
}
