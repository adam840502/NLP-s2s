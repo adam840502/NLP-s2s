{
 "cells": [
  {
   "cell_type": "code",
   "execution_count": 1,
   "metadata": {},
   "outputs": [
    {
     "name": "stderr",
     "output_type": "stream",
     "text": [
      "Using TensorFlow backend.\n"
     ]
    }
   ],
   "source": [
    "from __future__ import print_function\n",
    "\n",
    "from keras.models import Model, load_model\n",
    "from keras.layers import Input, LSTM, Dense, Embedding\n",
    "from keras.utils import to_categorical\n",
    "import numpy as np\n",
    "\n",
    "import jieba\n",
    "from nltk import word_tokenize"
   ]
  },
  {
   "cell_type": "markdown",
   "metadata": {},
   "source": [
    "## read data"
   ]
  },
  {
   "cell_type": "code",
   "execution_count": 2,
   "metadata": {},
   "outputs": [],
   "source": [
    "batch_size = 64  # Batch size for training.\n",
    "epochs = 50  # Number of epochs to train for.\n",
    "latent_dim = 256  # Latent dimensionality of the encoding space.\n",
    "EMBEDDING_DIM = 100\n",
    "\n",
    "# Path to the data txt file on disk.\n",
    "data_path = 'cmn.txt'"
   ]
  },
  {
   "cell_type": "code",
   "execution_count": 3,
   "metadata": {},
   "outputs": [
    {
     "name": "stderr",
     "output_type": "stream",
     "text": [
      "Building prefix dict from the default dictionary ...\n",
      "Loading model from cache C:\\Users\\溫子漢\\AppData\\Local\\Temp\\jieba.cache\n"
     ]
    },
    {
     "name": "stdout",
     "output_type": "stream",
     "text": [
      "sample size: 20295\n"
     ]
    },
    {
     "name": "stderr",
     "output_type": "stream",
     "text": [
      "Loading model cost 1.313 seconds.\n",
      "Prefix dict has been built succesfully.\n"
     ]
    },
    {
     "name": "stdout",
     "output_type": "stream",
     "text": [
      "input vocalbulary size: 3521\n",
      "target vocalbulary size: 6993\n"
     ]
    }
   ],
   "source": [
    "# Vectorize the data.\n",
    "input_texts_original = []\n",
    "input_texts = []\n",
    "target_texts = []\n",
    "input_words = set()\n",
    "target_words = set()\n",
    "\n",
    "with open(data_path, 'r', encoding='utf-8') as f:\n",
    "    lines = f.read().split('\\n')\n",
    "    print('sample size:', len(lines))\n",
    "\n",
    "for line in lines[:10000]:\n",
    "    input_text, target_text = line.split('\\t')\n",
    "    # We use \"tab\" as the \"start sequence\" character\n",
    "    # for the targets, and \"\\n\" as \"end sequence\" character.\n",
    "        \n",
    "    input_texts_original.append(input_text)\n",
    "    input_text = word_tokenize(input_text)\n",
    "    input_text = [word.lower() for word in input_text]\n",
    "    target_text = list(jieba.cut(target_text))\n",
    "\n",
    "    for word in input_text:\n",
    "        if word not in input_words:\n",
    "            input_words.add(word)\n",
    "    for word in target_text:\n",
    "        if word not in target_words:\n",
    "            target_words.add(word)\n",
    "            \n",
    "    target_text = ['\\t'] + target_text + ['\\n']\n",
    "    \n",
    "    input_texts.append(input_text)\n",
    "    target_texts.append(target_text)\n",
    "    \n",
    "print('input vocalbulary size:', len(input_words))\n",
    "print('target vocalbulary size:', len(target_words))\n",
    "\n",
    "# del lines, line, input_text, target_text, word"
   ]
  },
  {
   "cell_type": "markdown",
   "metadata": {},
   "source": [
    "## 準備pretrained vectors"
   ]
  },
  {
   "cell_type": "code",
   "execution_count": 4,
   "metadata": {},
   "outputs": [
    {
     "name": "stdout",
     "output_type": "stream",
     "text": [
      "unk at line 201534 in file\n",
      "Found 3518 word vectors.\n"
     ]
    }
   ],
   "source": [
    "input_tokens = ['<PAD>', '<UNK>']\n",
    "input_embedding_matrix = [np.zeros([EMBEDDING_DIM])]\n",
    "\n",
    "with open('glove.6B.100d.txt', encoding='utf8') as f:\n",
    "    for i, line in enumerate(f):\n",
    "        values = line.split()\n",
    "        word = values[0]\n",
    "        if word == 'unk':\n",
    "            print('unk at line %s in file' % i)\n",
    "            coefs = np.asarray(values[1:], dtype='float32')\n",
    "            input_embedding_matrix.insert(1, coefs)\n",
    "        elif word in input_words:\n",
    "            coefs = np.asarray(values[1:], dtype='float32')\n",
    "            input_tokens.append(word)\n",
    "            input_embedding_matrix.append(coefs)\n",
    "            \n",
    "input_embedding_matrix = np.vstack(input_embedding_matrix)\n",
    "\n",
    "print('Found %s word vectors.' % len(input_tokens))\n",
    "\n",
    "# del coefs, values, word, input_words, line"
   ]
  },
  {
   "cell_type": "code",
   "execution_count": 5,
   "metadata": {},
   "outputs": [
    {
     "name": "stdout",
     "output_type": "stream",
     "text": [
      "Number of samples: 10000\n",
      "Number of unique input tokens: 3518\n",
      "Number of unique output tokens: 6996\n",
      "Max sequence length for inputs: 12\n",
      "Max sequence length for outputs: 15\n"
     ]
    }
   ],
   "source": [
    "target_words = sorted(list(target_words))\n",
    "target_words = ['<PAD>', '\\t', '\\n'] + target_words\n",
    "\n",
    "num_encoder_tokens = len(input_tokens)\n",
    "num_decoder_tokens = len(target_words)\n",
    "max_encoder_seq_length = max([len(txt) for txt in input_texts])\n",
    "max_decoder_seq_length = max([len(txt) for txt in target_texts])\n",
    "\n",
    "print('Number of samples:', len(input_texts))\n",
    "print('Number of unique input tokens:', num_encoder_tokens)\n",
    "print('Number of unique output tokens:', num_decoder_tokens)\n",
    "print('Max sequence length for inputs:', max_encoder_seq_length)\n",
    "print('Max sequence length for outputs:', max_decoder_seq_length)"
   ]
  },
  {
   "cell_type": "markdown",
   "metadata": {},
   "source": [
    "## 準備 input array"
   ]
  },
  {
   "cell_type": "code",
   "execution_count": 6,
   "metadata": {},
   "outputs": [],
   "source": [
    "input_token_index = dict(\n",
    "    [(word, i) for i, word in enumerate(input_tokens)])\n",
    "target_token_index = dict(\n",
    "    [(word, i) for i, word in enumerate(target_words)])\n",
    "\n",
    "encoder_input_data = np.zeros(\n",
    "    (len(input_texts), max_encoder_seq_length),\n",
    "    dtype='float32')\n",
    "decoder_input_data = np.zeros(\n",
    "    (len(input_texts), max_decoder_seq_length),\n",
    "    dtype='float32')\n",
    "decoder_target_data = np.zeros(\n",
    "    (len(input_texts), max_decoder_seq_length),\n",
    "    dtype='float32')\n",
    "\n",
    "for i, (input_text, target_text) in enumerate(zip(input_texts, target_texts)):\n",
    "    for t, word in enumerate(input_text):\n",
    "        embedding_index = input_token_index.get(word)\n",
    "        if embedding_index is not None:\n",
    "            encoder_input_data[i, t] = embedding_index\n",
    "        else:\n",
    "            encoder_input_data[i, t] = input_token_index['<UNK>']\n",
    "            \n",
    "    for t, word in enumerate(target_text):\n",
    "        # decoder_target_data is ahead of decoder_input_data by one timestep\n",
    "        if word != '\\n':\n",
    "            decoder_input_data[i, t] = target_token_index[word]\n",
    "        if t > 0:\n",
    "            # decoder_target_data will be ahead by one timestep\n",
    "            # and will not include the start character.\n",
    "            decoder_target_data[i, t - 1] = target_token_index[word]\n",
    "            \n",
    "decoder_target_data = to_categorical(decoder_target_data, num_classes=num_decoder_tokens)\n",
    "            \n",
    "# del input_tokens, target_words"
   ]
  },
  {
   "cell_type": "markdown",
   "metadata": {},
   "source": [
    "## define model"
   ]
  },
  {
   "cell_type": "code",
   "execution_count": 8,
   "metadata": {},
   "outputs": [],
   "source": [
    "# Define an input sequence and process it.\n",
    "encoder_inputs = Input(shape=[max_encoder_seq_length])\n",
    "\n",
    "encoder_embedding = Embedding(num_encoder_tokens,\n",
    "                            EMBEDDING_DIM,\n",
    "                            weights=[input_embedding_matrix],\n",
    "#                             input_length=MAX_SEQUENCE_LENGTH,\n",
    "                            trainable=False)(encoder_inputs)\n",
    "\n",
    "encoder = LSTM(latent_dim, return_state=True)\n",
    "encoder_outputs, state_h, state_c = encoder(encoder_embedding)\n",
    "# We discard `encoder_outputs` and only keep the states.\n",
    "encoder_states = [state_h, state_c]\n",
    "\n",
    "# Set up the decoder, using `encoder_states` as initial state.\n",
    "decoder_inputs = Input(shape=[max_decoder_seq_length])\n",
    "\n",
    "embedding = Embedding(num_decoder_tokens,\n",
    "                            EMBEDDING_DIM,\n",
    "#                             weights=[input_embedding_matrix],\n",
    "#                             input_length=MAX_SEQUENCE_LENGTH,\n",
    "                            trainable=True)\n",
    "decoder_embedding = embedding(decoder_inputs)\n",
    "\n",
    "# We set up our decoder to return full output sequences,\n",
    "# and to return internal states as well. We don't use the\n",
    "# return states in the training model, but we will use them in inference.\n",
    "decoder_lstm = LSTM(latent_dim, return_sequences=True, return_state=True)\n",
    "decoder_outputs, _, _ = decoder_lstm(decoder_embedding,\n",
    "                                     initial_state=encoder_states)\n",
    "\n",
    "decoder_dense = Dense(num_decoder_tokens, activation='softmax')\n",
    "decoder_outputs = decoder_dense(decoder_outputs)\n",
    "\n",
    "# Define the model that will turn\n",
    "# `encoder_input_data` & `decoder_input_data` into `decoder_target_data`\n",
    "model = Model([encoder_inputs, decoder_inputs], decoder_outputs)"
   ]
  },
  {
   "cell_type": "code",
   "execution_count": null,
   "metadata": {},
   "outputs": [
    {
     "name": "stdout",
     "output_type": "stream",
     "text": [
      "Train on 8000 samples, validate on 2000 samples\n",
      "Epoch 1/50\n",
      "8000/8000 [==============================] - 42s 5ms/step - loss: 2.5637 - val_loss: 2.6475\n",
      "Epoch 2/50\n",
      "8000/8000 [==============================] - 33s 4ms/step - loss: 1.9214 - val_loss: 2.4842\n",
      "Epoch 3/50\n",
      "8000/8000 [==============================] - 35s 4ms/step - loss: 1.7674 - val_loss: 2.4380\n",
      "Epoch 4/50\n",
      "8000/8000 [==============================] - 37s 5ms/step - loss: 1.6570 - val_loss: 2.3059\n",
      "Epoch 5/50\n",
      "4416/8000 [===============>..............] - ETA: 14s - loss: 1.5619"
     ]
    }
   ],
   "source": [
    "# Run training\n",
    "model.compile(optimizer='rmsprop', loss='categorical_crossentropy')\n",
    "model.fit([encoder_input_data, decoder_input_data], decoder_target_data,\n",
    "          batch_size=batch_size,\n",
    "          epochs=epochs,\n",
    "          validation_split=0.2)\n",
    "# Save model\n",
    "model.save('s2s-epoch.h5')"
   ]
  },
  {
   "cell_type": "code",
   "execution_count": 25,
   "metadata": {},
   "outputs": [],
   "source": [
    "# Next: inference mode (sampling).\n",
    "# Here's the drill:\n",
    "# 1) encode input and retrieve initial decoder state\n",
    "# 2) run one step of decoder with this initial state\n",
    "# and a \"start of sequence\" token as target.\n",
    "# Output will be the next target token\n",
    "# 3) Repeat with the current target token and current states\n",
    "\n",
    "# Define sampling models\n",
    "encoder_model = Model(encoder_inputs, encoder_states)\n",
    "\n",
    "decoder_state_input_h = Input(shape=(latent_dim,))\n",
    "decoder_state_input_c = Input(shape=(latent_dim,))\n",
    "decoder_states_inputs = [decoder_state_input_h, decoder_state_input_c]\n",
    "\n",
    "decoder_embedding = embedding(decoder_inputs)\n",
    "\n",
    "decoder_outputs, state_h, state_c = decoder_lstm(\n",
    "    decoder_embedding, initial_state=decoder_states_inputs)\n",
    "decoder_states = [state_h, state_c]\n",
    "\n",
    "decoder_outputs = decoder_dense(decoder_outputs)\n",
    "\n",
    "decoder_model = Model(\n",
    "    [decoder_inputs] + decoder_states_inputs,\n",
    "    [decoder_outputs] + decoder_states)"
   ]
  },
  {
   "cell_type": "code",
   "execution_count": 26,
   "metadata": {},
   "outputs": [],
   "source": [
    "# Reverse-lookup token index to decode sequences back to\n",
    "# something readable.\n",
    "reverse_input_char_index = dict(\n",
    "    (i, char) for char, i in input_token_index.items())\n",
    "reverse_target_char_index = dict(\n",
    "    (i, char) for char, i in target_token_index.items())"
   ]
  },
  {
   "cell_type": "code",
   "execution_count": 27,
   "metadata": {},
   "outputs": [],
   "source": [
    "def decode_sequence(input_seq):\n",
    "    # Encode the input as state vectors.\n",
    "    states_value = encoder_model.predict(input_seq)\n",
    "\n",
    "    # Generate empty target sequence of length 1.\n",
    "    target_seq = np.zeros((1, max_decoder_seq_length))\n",
    "    # Populate the first character of target sequence with the start character.\n",
    "    target_seq[0, 0] = target_token_index['\\t']\n",
    "\n",
    "    # Sampling loop for a batch of sequences\n",
    "    # (to simplify, here we assume a batch of size 1).\n",
    "    stop_condition = False\n",
    "    decoded_sentence = ''\n",
    "    i = 1\n",
    "    while not stop_condition:\n",
    "        output_tokens, h, c = decoder_model.predict(\n",
    "            [target_seq] + states_value)\n",
    "\n",
    "        # Sample a token\n",
    "        sampled_token_index = np.argmax(output_tokens[0, i-1, :])\n",
    "        sampled_char = reverse_target_char_index[sampled_token_index]\n",
    "        decoded_sentence += sampled_char + ' '#+'('+str(sampled_token_index)+')'\n",
    "\n",
    "        # Exit condition: either hit max length\n",
    "        # or find stop character.\n",
    "        if (sampled_char == '\\n' or i >= max_decoder_seq_length-1): #max_decoder_seq_length\n",
    "            stop_condition = True\n",
    "\n",
    "        # Update the target sequence (of length 1).\n",
    "#         target_seq = np.zeros((1, max_decoder_seq_length))\n",
    "        target_seq[0, i] = sampled_token_index\n",
    "\n",
    "        # Update states\n",
    "#         states_value = [h, c]\n",
    "        \n",
    "        i = i + 1\n",
    "\n",
    "    return decoded_sentence"
   ]
  },
  {
   "cell_type": "code",
   "execution_count": 29,
   "metadata": {},
   "outputs": [
    {
     "name": "stdout",
     "output_type": "stream",
     "text": [
      "-\n",
      "Input sentence: ['hi', '.']\n",
      "Decoded sentence: 嗨 。 \n",
      " \n",
      "-\n",
      "Input sentence: ['hi', '.']\n",
      "Decoded sentence: 嗨 。 \n",
      " \n",
      "-\n",
      "Input sentence: ['run', '.']\n",
      "Decoded sentence: 你 用 跑 的 。 \n",
      " \n",
      "-\n",
      "Input sentence: ['wait', '!']\n",
      "Decoded sentence: 等等 ！ \n",
      " \n",
      "-\n",
      "Input sentence: ['hello', '!']\n",
      "Decoded sentence: 你好 。 \n",
      " \n",
      "-\n",
      "Input sentence: ['i', 'try', '.']\n",
      "Decoded sentence: 让 我 来 。 \n",
      " \n",
      "-\n",
      "Input sentence: ['i', 'won', '!']\n",
      "Decoded sentence: 我 赢 了 。 \n",
      " \n",
      "-\n",
      "Input sentence: ['oh', 'no', '!']\n",
      "Decoded sentence: 不会 吧 。 \n",
      " \n",
      "-\n",
      "Input sentence: ['cheers', '!']\n",
      "Decoded sentence: 乾杯 ! \n",
      " \n",
      "-\n",
      "Input sentence: ['he', 'ran', '.']\n",
      "Decoded sentence: 他 跑 了 。 \n",
      " \n",
      "-\n",
      "Input sentence: ['hop', 'in', '.']\n",
      "Decoded sentence: 跳进来 。 \n",
      " \n",
      "-\n",
      "Input sentence: ['i', 'lost', '.']\n",
      "Decoded sentence: 我 迷失 了 。 \n",
      " \n",
      "-\n",
      "Input sentence: ['i', 'quit', '.']\n",
      "Decoded sentence: 我 退出 。 \n",
      " \n",
      "-\n",
      "Input sentence: ['i', \"'m\", 'ok', '.']\n",
      "Decoded sentence: 我 沒事 。 \n",
      " \n",
      "-\n",
      "Input sentence: ['listen', '.']\n",
      "Decoded sentence: 听 着 。 \n",
      " \n",
      "-\n",
      "Input sentence: ['no', 'way', '!']\n",
      "Decoded sentence: 没门 ！ \n",
      " \n",
      "-\n",
      "Input sentence: ['no', 'way', '!']\n",
      "Decoded sentence: 没门 ！ \n",
      " \n",
      "-\n",
      "Input sentence: ['really', '?']\n",
      "Decoded sentence: 你 确定 ？ \n",
      " \n",
      "-\n",
      "Input sentence: ['try', 'it', '.']\n",
      "Decoded sentence: 试试 吧 。 \n",
      " \n",
      "-\n",
      "Input sentence: ['we', 'try', '.']\n",
      "Decoded sentence: 我们 来 试试 。 \n",
      " \n",
      "-\n",
      "Input sentence: ['why', 'me', '?']\n",
      "Decoded sentence: 为什么 是 我 ？ \n",
      " \n",
      "-\n",
      "Input sentence: ['ask', 'tom', '.']\n",
      "Decoded sentence: 去 问 汤姆 。 \n",
      " \n",
      "-\n",
      "Input sentence: ['be', 'calm', '.']\n",
      "Decoded sentence: 冷静 点 。 \n",
      " \n",
      "-\n",
      "Input sentence: ['be', 'fair', '.']\n",
      "Decoded sentence: 公平 点 。 \n",
      " \n",
      "-\n",
      "Input sentence: ['be', 'kind', '.']\n",
      "Decoded sentence: 友善 点 。 \n",
      " \n"
     ]
    }
   ],
   "source": [
    "req_index = [4077, 2122, 3335, 1464, 8956,\n",
    "             7168, 3490, 4495, 5100, 119]\n",
    "\n",
    "output_string = ''\n",
    "for seq_index in list(range(25)):\n",
    "    # Take one sequence (part of the training set)\n",
    "    # for trying out decoding.\n",
    "    input_seq = encoder_input_data[seq_index: seq_index + 1]\n",
    "    decoded_sentence = decode_sequence(input_seq)\n",
    "    print('-')\n",
    "    print('Input sentence:', input_texts[seq_index])\n",
    "    print('Decoded sentence:', decoded_sentence)\n",
    "    \n",
    "    output_string += input_texts_original[seq_index] + '\\n'\n",
    "    output_string += decoded_sentence"
   ]
  },
  {
   "cell_type": "code",
   "execution_count": 25,
   "metadata": {},
   "outputs": [],
   "source": [
    "with open('output.txt', 'w') as f:\n",
    "    f.write(output_string)"
   ]
  },
  {
   "cell_type": "raw",
   "metadata": {},
   "source": [
    "check = np.vectorize(lambda x, d: d[x]) \n",
    "\n",
    "\n",
    "\n",
    "i = 11285\n",
    "input_data = encoder_input_data[i-1:i]\n",
    "print(check(input_data, reverse_input_char_index))\n",
    "\n",
    "target_seq = np.zeros((1, max_decoder_seq_length))\n",
    "target_seq[0, 0] = target_token_index['\\t']\n",
    "\n",
    "states_value = encoder_model.predict(input_data)\n",
    "\n",
    "\n",
    "\n",
    "print(check(target_seq.astype(int), reverse_target_char_index))\n",
    "output_tokens, h, c = decoder_model.predict(\n",
    "            [target_seq] + states_value)\n",
    "delta = (h-states_value[0], c-states_value[1])\n",
    "print('states diff:', np.linalg.norm(delta[0]+delta[1]))\n",
    "\n",
    "print('output shape:', output_tokens.shape)\n",
    "op = output_tokens.argmax(axis=2)\n",
    "sampled_token_index = np.argmax(output_tokens[0, 0, :])\n",
    "\n",
    "print(op)\n",
    "print(check(op, reverse_target_char_index))\n",
    "print(sampled_token_index)\n",
    "\n",
    "j = 0\n",
    "\n",
    "\n",
    "\n",
    "j += 1\n",
    "# states_value = [h, c]\n",
    "# target_seq = np.zeros((1, max_decoder_seq_length))\n",
    "target_seq[0, j] = sampled_token_index\n",
    "\n",
    "print(check(target_seq.astype(int), reverse_target_char_index))\n",
    "output_tokens, h, c = decoder_model.predict(\n",
    "            [target_seq] + states_value)\n",
    "delta = (h-states_value[0], c-states_value[1])\n",
    "print('states diff:', np.linalg.norm(delta[0]+delta[1]))\n",
    "\n",
    "print('output shape:', output_tokens.shape)\n",
    "op = output_tokens.argmax(axis=2)\n",
    "sampled_token_index = np.argmax(output_tokens[0, j, :])\n",
    "\n",
    "print(op)\n",
    "print(check(op, reverse_target_char_index))\n",
    "print(sampled_token_index)\n",
    "\n",
    "\n",
    "\n",
    "model = load_model('s2s-50epoch.h5')\n",
    "embedding = model.get_layer('embedding_2')\n",
    "decoder_lstm = model.get_layer('lstm_2')\n",
    "decoder_dense = model.get_layer('dense_1')"
   ]
  }
 ],
 "metadata": {
  "kernelspec": {
   "display_name": "Python 3",
   "language": "python",
   "name": "python3"
  },
  "language_info": {
   "codemirror_mode": {
    "name": "ipython",
    "version": 3
   },
   "file_extension": ".py",
   "mimetype": "text/x-python",
   "name": "python",
   "nbconvert_exporter": "python",
   "pygments_lexer": "ipython3",
   "version": "3.6.8"
  }
 },
 "nbformat": 4,
 "nbformat_minor": 2
}
